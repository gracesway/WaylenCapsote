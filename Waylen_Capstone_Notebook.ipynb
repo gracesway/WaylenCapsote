{
  "cells": [
    {
      "cell_type": "markdown",
      "metadata": {
        "id": "view-in-github",
        "colab_type": "text"
      },
      "source": [
        "<a href=\"https://colab.research.google.com/github/gracesway/WaylenCapsote/blob/main/Waylen_Capstone_Notebook.ipynb\" target=\"_parent\"><img src=\"https://colab.research.google.com/assets/colab-badge.svg\" alt=\"Open In Colab\"/></a>"
      ]
    },
    {
      "cell_type": "code",
      "execution_count": 5,
      "id": "8b7e5a68",
      "metadata": {
        "id": "8b7e5a68"
      },
      "outputs": [],
      "source": [
        "import sys\n",
        "#!{sys.executable} -m pip install numpy \n",
        "#!{sys.executable} -m pip install pandas \n",
        "#!{sys.executable} -m pip install matplotlib \n",
        "#!{sys.executable} -m pip install scipy\n",
        "import numpy as np\n",
        "import pandas as pd\n",
        "import matplotlib.pyplot as ptl\n",
        "import scipy.stats as st"
      ]
    },
    {
      "cell_type": "code",
      "execution_count": 6,
      "id": "c21cfef5",
      "metadata": {
        "id": "c21cfef5"
      },
      "outputs": [],
      "source": [
        "training_data = pd.read_csv(\"TRAINING DATA.csv\")\n",
        "test_data = pd.read_csv(\"TEST Data.csv\")\n",
        "MealDataL = [training_data, test_data]\n",
        "MealData = pd.concat(MealDataL)"
      ]
    },
    {
      "cell_type": "code",
      "execution_count": 7,
      "id": "c3068d54",
      "metadata": {
        "colab": {
          "base_uri": "https://localhost:8080/",
          "height": 265
        },
        "id": "c3068d54",
        "outputId": "0de2be0e-650b-4b75-dc4a-dc68b8201269"
      },
      "outputs": [
        {
          "output_type": "display_data",
          "data": {
            "text/plain": [
              "<Figure size 432x288 with 1 Axes>"
            ],
            "image/png": "[encoded data removed]"
          },
          "metadata": {
            "needs_background": "light"
          }
        }
      ],
      "source": [
        "MealData[\"TotalMeals\"].hist(bins =1000)\n",
        "ptl.show()"
      ]
    },
    {
      "cell_type": "code",
      "execution_count": null,
      "id": "2c549979",
      "metadata": {
        "id": "2c549979"
      },
      "outputs": [],
      "source": []
    }
  ],
  "metadata": {
    "kernelspec": {
      "display_name": "Python 3 (ipykernel)",
      "language": "python",
      "name": "python3"
    },
    "language_info": {
      "codemirror_mode": {
        "name": "ipython",
        "version": 3
      },
      "file_extension": ".py",
      "mimetype": "text/x-python",
      "name": "python",
      "nbconvert_exporter": "python",
      "pygments_lexer": "ipython3",
      "version": "3.10.7"
    },
    "colab": {
      "provenance": [],
      "include_colab_link": true
    }
  },
  "nbformat": 4,
  "nbformat_minor": 5
}